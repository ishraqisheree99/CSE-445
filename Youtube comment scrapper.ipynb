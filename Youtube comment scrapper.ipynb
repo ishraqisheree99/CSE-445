{
 "cells": [
  {
   "cell_type": "code",
   "execution_count": 1,
   "metadata": {},
   "outputs": [
    {
     "name": "stdout",
     "output_type": "stream",
     "text": [
      "Translation error: The read operation timed out\n",
      "Translation error: The read operation timed out\n",
      "Translated DataFrame (first 10 rows):\n",
      "                                           bangla_text  \\\n",
      "0                                    বাল ছাল তর সাউয়া😡   \n",
      "1                        তোর কপালে জুতা মারি শালার পুত   \n",
      "2                                        হালার পু পাপন   \n",
      "3                                  কুত্তার বাচ্চা পাপন   \n",
      "4                            পাপন মাগির পোলার এটা করছে   \n",
      "..                                                 ...   \n",
      "103  এই খানকির পোলা তরে যদি পাইতাম কুত্তার মত পিটাই...   \n",
      "104                               সে এখনো মানুসিক রোগী   \n",
      "105  পযসা কামালে মানুষ হওযা যাযনা জানোযার আরে এই বা...   \n",
      "106                             কুকুরের থেকে ও নিকৃষ্ট   \n",
      "107  খানকি মাগি তূদের লজ্জা লাগে না খানকি মাগি তূর ...   \n",
      "\n",
      "                                          english_Text  \n",
      "0                                                 Bark  \n",
      "1                               Shoes on your forehead  \n",
      "2                                               Halter  \n",
      "3                                               Puppet  \n",
      "4                         Papan Magi Polar is doing it  \n",
      "..                                                 ...  \n",
      "103  If I could get this khanki on the floor like a...  \n",
      "104                     She is still a psychic patient  \n",
      "105  I know that this father has shown you the ligh...  \n",
      "106                                                Dog  \n",
      "107                    Khanki Magi Tudu is not ashamed  \n",
      "\n",
      "[108 rows x 2 columns]\n"
     ]
    }
   ],
   "source": [
    "import pandas as pd\n",
    "from googletrans import Translator\n",
    "\n",
    "# Load the dataset from the Excel file\n",
    "file_path = 'fb_bully.xlsx'  # Replace with the path to your Excel file\n",
    "df = pd.read_excel(file_path, nrows=109)  # Load only the first 10 rows\n",
    "\n",
    "# Function to translate Bangla text to English\n",
    "def translate_to_english(text):\n",
    "    translator = Translator()\n",
    "    try:\n",
    "        translation = translator.translate(text, src='bn', dest='en')\n",
    "        return translation.text\n",
    "    except Exception as e:\n",
    "        print(f\"Translation error: {e}\")\n",
    "        return text\n",
    "\n",
    "# Apply the translation function to the 'Description' column and create a new 'English_Text' column\n",
    "df['english_Text'] = df['bangla_text'].apply(translate_to_english)\n",
    "\n",
    "# Display the resulting dataframe for the first 10 rows\n",
    "print(\"Translated DataFrame (first 10 rows):\")\n",
    "print(df)\n",
    "\n",
    "# Save the updated dataframe with the new column to a new Excel file\n",
    "output_file_path = 'fb_translated_dataset.xlsx'  # Replace with your desired output file path\n",
    "df.to_excel(output_file_path, index=False)\n"
   ]
  }
 ],
 "metadata": {
  "kernelspec": {
   "display_name": "Python 3",
   "language": "python",
   "name": "python3"
  },
  "language_info": {
   "codemirror_mode": {
    "name": "ipython",
    "version": 3
   },
   "file_extension": ".py",
   "mimetype": "text/x-python",
   "name": "python",
   "nbconvert_exporter": "python",
   "pygments_lexer": "ipython3",
   "version": "3.11.4"
  },
  "orig_nbformat": 4
 },
 "nbformat": 4,
 "nbformat_minor": 2
}
